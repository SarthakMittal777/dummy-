{
 "cells": [
  {
   "cell_type": "code",
   "execution_count": 3,
   "metadata": {},
   "outputs": [],
   "source": [
    "import tensorflow as tf\n",
    "from tensorflow.keras.preprocessing import image\n",
    "from tensorflow.keras import Sequential\n",
    "from tensorflow.keras.layers import GlobalMaxPooling2D, Dense, Dropout\n",
    "from tensorflow.keras.applications.efficientnet import EfficientNetB7, preprocess_input"
   ]
  },
  {
   "cell_type": "code",
   "execution_count": 4,
   "metadata": {},
   "outputs": [],
   "source": [
    "# use efficientnetb7 for feature extraction\n",
    "base_model = EfficientNetB7(weights='imagenet', include_top=False, input_shape=(224, 224, 3))\n",
    "\n",
    "# for layer in model.layers:\n",
    "    # layer.trainable = False\n",
    "\n",
    "base_model.trainable = False"
   ]
  },
  {
   "cell_type": "code",
   "execution_count": 5,
   "metadata": {},
   "outputs": [],
   "source": [
    "# make a new sequential model\n",
    "model = Sequential([base_model, GlobalMaxPooling2D()])\n",
    "\n",
    "# build the model\n",
    "model.build(input_shape=(None, 224, 224, 3))\n",
    "\n",
    "# compile the model\n",
    "model.compile(loss=\"binary_crossentropy\", optimizer=\"adam\", metrics=[\"accuracy\"])"
   ]
  },
  {
   "cell_type": "code",
   "execution_count": 6,
   "metadata": {},
   "outputs": [
    {
     "data": {
      "text/html": [
       "<pre style=\"white-space:pre;overflow-x:auto;line-height:normal;font-family:Menlo,'DejaVu Sans Mono',consolas,'Courier New',monospace\"><span style=\"font-weight: bold\">Model: \"sequential\"</span>\n",
       "</pre>\n"
      ],
      "text/plain": [
       "\u001b[1mModel: \"sequential\"\u001b[0m\n"
      ]
     },
     "metadata": {},
     "output_type": "display_data"
    },
    {
     "data": {
      "text/html": [
       "<pre style=\"white-space:pre;overflow-x:auto;line-height:normal;font-family:Menlo,'DejaVu Sans Mono',consolas,'Courier New',monospace\">┏━━━━━━━━━━━━━━━━━━━━━━━━━━━━━━━━━┳━━━━━━━━━━━━━━━━━━━━━━━━┳━━━━━━━━━━━━━━━┓\n",
       "┃<span style=\"font-weight: bold\"> Layer (type)                    </span>┃<span style=\"font-weight: bold\"> Output Shape           </span>┃<span style=\"font-weight: bold\">       Param # </span>┃\n",
       "┡━━━━━━━━━━━━━━━━━━━━━━━━━━━━━━━━━╇━━━━━━━━━━━━━━━━━━━━━━━━╇━━━━━━━━━━━━━━━┩\n",
       "│ efficientnetb7 (<span style=\"color: #0087ff; text-decoration-color: #0087ff\">Functional</span>)     │ (<span style=\"color: #00d7ff; text-decoration-color: #00d7ff\">None</span>, <span style=\"color: #00af00; text-decoration-color: #00af00\">7</span>, <span style=\"color: #00af00; text-decoration-color: #00af00\">7</span>, <span style=\"color: #00af00; text-decoration-color: #00af00\">2560</span>)     │    <span style=\"color: #00af00; text-decoration-color: #00af00\">64,097,687</span> │\n",
       "├─────────────────────────────────┼────────────────────────┼───────────────┤\n",
       "│ global_max_pooling2d            │ (<span style=\"color: #00d7ff; text-decoration-color: #00d7ff\">None</span>, <span style=\"color: #00af00; text-decoration-color: #00af00\">2560</span>)           │             <span style=\"color: #00af00; text-decoration-color: #00af00\">0</span> │\n",
       "│ (<span style=\"color: #0087ff; text-decoration-color: #0087ff\">GlobalMaxPooling2D</span>)            │                        │               │\n",
       "└─────────────────────────────────┴────────────────────────┴───────────────┘\n",
       "</pre>\n"
      ],
      "text/plain": [
       "┏━━━━━━━━━━━━━━━━━━━━━━━━━━━━━━━━━┳━━━━━━━━━━━━━━━━━━━━━━━━┳━━━━━━━━━━━━━━━┓\n",
       "┃\u001b[1m \u001b[0m\u001b[1mLayer (type)                   \u001b[0m\u001b[1m \u001b[0m┃\u001b[1m \u001b[0m\u001b[1mOutput Shape          \u001b[0m\u001b[1m \u001b[0m┃\u001b[1m \u001b[0m\u001b[1m      Param #\u001b[0m\u001b[1m \u001b[0m┃\n",
       "┡━━━━━━━━━━━━━━━━━━━━━━━━━━━━━━━━━╇━━━━━━━━━━━━━━━━━━━━━━━━╇━━━━━━━━━━━━━━━┩\n",
       "│ efficientnetb7 (\u001b[38;5;33mFunctional\u001b[0m)     │ (\u001b[38;5;45mNone\u001b[0m, \u001b[38;5;34m7\u001b[0m, \u001b[38;5;34m7\u001b[0m, \u001b[38;5;34m2560\u001b[0m)     │    \u001b[38;5;34m64,097,687\u001b[0m │\n",
       "├─────────────────────────────────┼────────────────────────┼───────────────┤\n",
       "│ global_max_pooling2d            │ (\u001b[38;5;45mNone\u001b[0m, \u001b[38;5;34m2560\u001b[0m)           │             \u001b[38;5;34m0\u001b[0m │\n",
       "│ (\u001b[38;5;33mGlobalMaxPooling2D\u001b[0m)            │                        │               │\n",
       "└─────────────────────────────────┴────────────────────────┴───────────────┘\n"
      ]
     },
     "metadata": {},
     "output_type": "display_data"
    },
    {
     "data": {
      "text/html": [
       "<pre style=\"white-space:pre;overflow-x:auto;line-height:normal;font-family:Menlo,'DejaVu Sans Mono',consolas,'Courier New',monospace\"><span style=\"font-weight: bold\"> Total params: </span><span style=\"color: #00af00; text-decoration-color: #00af00\">64,097,687</span> (244.51 MB)\n",
       "</pre>\n"
      ],
      "text/plain": [
       "\u001b[1m Total params: \u001b[0m\u001b[38;5;34m64,097,687\u001b[0m (244.51 MB)\n"
      ]
     },
     "metadata": {},
     "output_type": "display_data"
    },
    {
     "data": {
      "text/html": [
       "<pre style=\"white-space:pre;overflow-x:auto;line-height:normal;font-family:Menlo,'DejaVu Sans Mono',consolas,'Courier New',monospace\"><span style=\"font-weight: bold\"> Trainable params: </span><span style=\"color: #00af00; text-decoration-color: #00af00\">0</span> (0.00 B)\n",
       "</pre>\n"
      ],
      "text/plain": [
       "\u001b[1m Trainable params: \u001b[0m\u001b[38;5;34m0\u001b[0m (0.00 B)\n"
      ]
     },
     "metadata": {},
     "output_type": "display_data"
    },
    {
     "data": {
      "text/html": [
       "<pre style=\"white-space:pre;overflow-x:auto;line-height:normal;font-family:Menlo,'DejaVu Sans Mono',consolas,'Courier New',monospace\"><span style=\"font-weight: bold\"> Non-trainable params: </span><span style=\"color: #00af00; text-decoration-color: #00af00\">64,097,687</span> (244.51 MB)\n",
       "</pre>\n"
      ],
      "text/plain": [
       "\u001b[1m Non-trainable params: \u001b[0m\u001b[38;5;34m64,097,687\u001b[0m (244.51 MB)\n"
      ]
     },
     "metadata": {},
     "output_type": "display_data"
    }
   ],
   "source": [
    "model.summary()"
   ]
  },
  {
   "cell_type": "code",
   "execution_count": null,
   "metadata": {},
   "outputs": [
    {
     "data": {
      "image/jpeg": "[encoded data removed]",
      "image/png": "[encoded data removed]",
      "text/plain": [
       "<PIL.Image.Image image mode=RGB size=224x224>"
      ]
     },
     "execution_count": 5,
     "metadata": {},
     "output_type": "execute_result"
    }
   ],
   "source": [
    "# load image\n",
    "img_path = './data/images/1163.jpg'\n",
    "\n",
    "img = image.load_img(img_path, target_size=(224, 224))\n",
    "img"
   ]
  },
  {
   "cell_type": "code",
   "execution_count": 7,
   "metadata": {},
   "outputs": [],
   "source": [
    "import pandas as pd\n",
    "import numpy as np\n",
    "from numpy.linalg import norm"
   ]
  },
  {
   "cell_type": "code",
   "execution_count": null,
   "metadata": {},
   "outputs": [],
   "source": [
    "# preprocess image\n",
    "img_array = image.img_to_array(img)\n",
    "img_array = np.expand_dims(img_array, 0)\n",
    "img_array = preprocess_input(img_array)"
   ]
  },
  {
   "cell_type": "code",
   "execution_count": null,
   "metadata": {},
   "outputs": [
    {
     "name": "stdout",
     "output_type": "stream",
     "text": [
      "\u001b[1m1/1\u001b[0m \u001b[32m━━━━━━━━━━━━━━━━━━━━\u001b[0m\u001b[37m\u001b[0m \u001b[1m11s\u001b[0m 11s/step\n"
     ]
    },
    {
     "data": {
      "text/plain": [
       "array([[2.0187728 , 0.69735575, 3.7913942 , ..., 0.7533477 , 0.2207194 ,\n",
       "        4.5425496 ]], dtype=float32)"
      ]
     },
     "execution_count": 8,
     "metadata": {},
     "output_type": "execute_result"
    }
   ],
   "source": [
    "# predict image\n",
    "pred = model.predict(img_array)\n",
    "pred"
   ]
  },
  {
   "cell_type": "code",
   "execution_count": null,
   "metadata": {},
   "outputs": [
    {
     "data": {
      "text/plain": [
       "array([2.0187728 , 0.69735575, 3.7913942 , ..., 0.7533477 , 0.2207194 ,\n",
       "       4.5425496 ], dtype=float32)"
      ]
     },
     "execution_count": 9,
     "metadata": {},
     "output_type": "execute_result"
    }
   ],
   "source": [
    "pred.flatten()"
   ]
  },
  {
   "cell_type": "code",
   "execution_count": null,
   "metadata": {},
   "outputs": [
    {
     "data": {
      "text/plain": [
       "110.36305"
      ]
     },
     "execution_count": 10,
     "metadata": {},
     "output_type": "execute_result"
    }
   ],
   "source": [
    "norm(pred.flatten())"
   ]
  },
  {
   "cell_type": "code",
   "execution_count": null,
   "metadata": {},
   "outputs": [
    {
     "data": {
      "text/plain": [
       "(1, 2560)"
      ]
     },
     "execution_count": 11,
     "metadata": {},
     "output_type": "execute_result"
    }
   ],
   "source": [
    "pred.shape"
   ]
  },
  {
   "cell_type": "code",
   "execution_count": 8,
   "metadata": {},
   "outputs": [],
   "source": [
    "def extract_features(image_path):\n",
    "    img = image.load_img(image_path, target_size=(224, 224))\n",
    "    img_array = image.img_to_array(img)\n",
    "    expanded_img_array = np.expand_dims(img_array, axis=0)\n",
    "    preprocessed_img = preprocess_input(expanded_img_array)\n",
    "    res = model.predict(preprocessed_img, verbose=0).flatten()\n",
    "    return res / norm(res) # L2 Normalization"
   ]
  },
  {
   "cell_type": "code",
   "execution_count": 9,
   "metadata": {},
   "outputs": [
    {
     "data": {
      "text/html": [
       "<div>\n",
       "<style scoped>\n",
       "    .dataframe tbody tr th:only-of-type {\n",
       "        vertical-align: middle;\n",
       "    }\n",
       "\n",
       "    .dataframe tbody tr th {\n",
       "        vertical-align: top;\n",
       "    }\n",
       "\n",
       "    .dataframe thead th {\n",
       "        text-align: right;\n",
       "    }\n",
       "</style>\n",
       "<table border=\"1\" class=\"dataframe\">\n",
       "  <thead>\n",
       "    <tr style=\"text-align: right;\">\n",
       "      <th></th>\n",
       "      <th>id</th>\n",
       "      <th>gender</th>\n",
       "      <th>masterCategory</th>\n",
       "      <th>label</th>\n",
       "      <th>subCategory</th>\n",
       "      <th>articleType</th>\n",
       "      <th>baseColour</th>\n",
       "      <th>usage</th>\n",
       "      <th>season</th>\n",
       "      <th>productDisplayName</th>\n",
       "      <th>simplifiedColor</th>\n",
       "    </tr>\n",
       "  </thead>\n",
       "  <tbody>\n",
       "    <tr>\n",
       "      <th>0</th>\n",
       "      <td>1163</td>\n",
       "      <td>Men</td>\n",
       "      <td>Apparel</td>\n",
       "      <td>0</td>\n",
       "      <td>Topwear</td>\n",
       "      <td>Tshirts</td>\n",
       "      <td>Blue</td>\n",
       "      <td>Sports</td>\n",
       "      <td>Summer</td>\n",
       "      <td>Nike Sahara Team India Fanwear Round Neck Jersey</td>\n",
       "      <td>Neutral</td>\n",
       "    </tr>\n",
       "    <tr>\n",
       "      <th>1</th>\n",
       "      <td>1164</td>\n",
       "      <td>Men</td>\n",
       "      <td>Apparel</td>\n",
       "      <td>0</td>\n",
       "      <td>Topwear</td>\n",
       "      <td>Tshirts</td>\n",
       "      <td>Blue</td>\n",
       "      <td>Sports</td>\n",
       "      <td>Winter</td>\n",
       "      <td>Nike Men Blue T20 Indian Cricket Jersey</td>\n",
       "      <td>Neutral</td>\n",
       "    </tr>\n",
       "    <tr>\n",
       "      <th>2</th>\n",
       "      <td>1165</td>\n",
       "      <td>Men</td>\n",
       "      <td>Apparel</td>\n",
       "      <td>0</td>\n",
       "      <td>Topwear</td>\n",
       "      <td>Tshirts</td>\n",
       "      <td>Blue</td>\n",
       "      <td>Sports</td>\n",
       "      <td>Summer</td>\n",
       "      <td>Nike Mean Team India Cricket Jersey</td>\n",
       "      <td>Neutral</td>\n",
       "    </tr>\n",
       "    <tr>\n",
       "      <th>3</th>\n",
       "      <td>1525</td>\n",
       "      <td>Unisex</td>\n",
       "      <td>Accessories</td>\n",
       "      <td>1</td>\n",
       "      <td>Bags</td>\n",
       "      <td>Backpacks</td>\n",
       "      <td>Navy Blue</td>\n",
       "      <td>Casual</td>\n",
       "      <td>Fall</td>\n",
       "      <td>Puma Deck Navy Blue Backpack</td>\n",
       "      <td>Dark</td>\n",
       "    </tr>\n",
       "    <tr>\n",
       "      <th>4</th>\n",
       "      <td>1526</td>\n",
       "      <td>Unisex</td>\n",
       "      <td>Accessories</td>\n",
       "      <td>1</td>\n",
       "      <td>Bags</td>\n",
       "      <td>Backpacks</td>\n",
       "      <td>Black</td>\n",
       "      <td>Sports</td>\n",
       "      <td>Fall</td>\n",
       "      <td>Puma Big Cat Backpack Black</td>\n",
       "      <td>Dark</td>\n",
       "    </tr>\n",
       "  </tbody>\n",
       "</table>\n",
       "</div>"
      ],
      "text/plain": [
       "     id  gender masterCategory  label subCategory articleType baseColour  \\\n",
       "0  1163     Men        Apparel      0     Topwear     Tshirts       Blue   \n",
       "1  1164     Men        Apparel      0     Topwear     Tshirts       Blue   \n",
       "2  1165     Men        Apparel      0     Topwear     Tshirts       Blue   \n",
       "3  1525  Unisex    Accessories      1        Bags   Backpacks  Navy Blue   \n",
       "4  1526  Unisex    Accessories      1        Bags   Backpacks      Black   \n",
       "\n",
       "    usage  season                                productDisplayName  \\\n",
       "0  Sports  Summer  Nike Sahara Team India Fanwear Round Neck Jersey   \n",
       "1  Sports  Winter           Nike Men Blue T20 Indian Cricket Jersey   \n",
       "2  Sports  Summer               Nike Mean Team India Cricket Jersey   \n",
       "3  Casual    Fall                      Puma Deck Navy Blue Backpack   \n",
       "4  Sports    Fall                       Puma Big Cat Backpack Black   \n",
       "\n",
       "  simplifiedColor  \n",
       "0         Neutral  \n",
       "1         Neutral  \n",
       "2         Neutral  \n",
       "3            Dark  \n",
       "4            Dark  "
      ]
     },
     "execution_count": 9,
     "metadata": {},
     "output_type": "execute_result"
    }
   ],
   "source": [
    "df = pd.read_csv('preprocessed.csv')\n",
    "df.head()"
   ]
  },
  {
   "cell_type": "code",
   "execution_count": null,
   "metadata": {},
   "outputs": [
    {
     "data": {
      "text/html": [
       "<div>\n",
       "<style scoped>\n",
       "    .dataframe tbody tr th:only-of-type {\n",
       "        vertical-align: middle;\n",
       "    }\n",
       "\n",
       "    .dataframe tbody tr th {\n",
       "        vertical-align: top;\n",
       "    }\n",
       "\n",
       "    .dataframe thead th {\n",
       "        text-align: right;\n",
       "    }\n",
       "</style>\n",
       "<table border=\"1\" class=\"dataframe\">\n",
       "  <thead>\n",
       "    <tr style=\"text-align: right;\">\n",
       "      <th></th>\n",
       "      <th>id</th>\n",
       "      <th>gender</th>\n",
       "      <th>masterCategory</th>\n",
       "      <th>label</th>\n",
       "      <th>subCategory</th>\n",
       "      <th>articleType</th>\n",
       "      <th>baseColour</th>\n",
       "      <th>usage</th>\n",
       "      <th>season</th>\n",
       "      <th>productDisplayName</th>\n",
       "      <th>simplifiedColor</th>\n",
       "    </tr>\n",
       "  </thead>\n",
       "  <tbody>\n",
       "    <tr>\n",
       "      <th>0</th>\n",
       "      <td>1163</td>\n",
       "      <td>Men</td>\n",
       "      <td>Apparel</td>\n",
       "      <td>0</td>\n",
       "      <td>Topwear</td>\n",
       "      <td>Tshirts</td>\n",
       "      <td>Blue</td>\n",
       "      <td>Sports</td>\n",
       "      <td>Summer</td>\n",
       "      <td>Nike Sahara Team India Fanwear Round Neck Jersey</td>\n",
       "      <td>Neutral</td>\n",
       "    </tr>\n",
       "    <tr>\n",
       "      <th>1</th>\n",
       "      <td>1164</td>\n",
       "      <td>Men</td>\n",
       "      <td>Apparel</td>\n",
       "      <td>0</td>\n",
       "      <td>Topwear</td>\n",
       "      <td>Tshirts</td>\n",
       "      <td>Blue</td>\n",
       "      <td>Sports</td>\n",
       "      <td>Winter</td>\n",
       "      <td>Nike Men Blue T20 Indian Cricket Jersey</td>\n",
       "      <td>Neutral</td>\n",
       "    </tr>\n",
       "    <tr>\n",
       "      <th>2</th>\n",
       "      <td>1165</td>\n",
       "      <td>Men</td>\n",
       "      <td>Apparel</td>\n",
       "      <td>0</td>\n",
       "      <td>Topwear</td>\n",
       "      <td>Tshirts</td>\n",
       "      <td>Blue</td>\n",
       "      <td>Sports</td>\n",
       "      <td>Summer</td>\n",
       "      <td>Nike Mean Team India Cricket Jersey</td>\n",
       "      <td>Neutral</td>\n",
       "    </tr>\n",
       "    <tr>\n",
       "      <th>3</th>\n",
       "      <td>1525</td>\n",
       "      <td>Unisex</td>\n",
       "      <td>Accessories</td>\n",
       "      <td>1</td>\n",
       "      <td>Bags</td>\n",
       "      <td>Backpacks</td>\n",
       "      <td>Navy Blue</td>\n",
       "      <td>Casual</td>\n",
       "      <td>Fall</td>\n",
       "      <td>Puma Deck Navy Blue Backpack</td>\n",
       "      <td>Dark</td>\n",
       "    </tr>\n",
       "    <tr>\n",
       "      <th>4</th>\n",
       "      <td>1526</td>\n",
       "      <td>Unisex</td>\n",
       "      <td>Accessories</td>\n",
       "      <td>1</td>\n",
       "      <td>Bags</td>\n",
       "      <td>Backpacks</td>\n",
       "      <td>Black</td>\n",
       "      <td>Sports</td>\n",
       "      <td>Fall</td>\n",
       "      <td>Puma Big Cat Backpack Black</td>\n",
       "      <td>Dark</td>\n",
       "    </tr>\n",
       "  </tbody>\n",
       "</table>\n",
       "</div>"
      ],
      "text/plain": [
       "     id  gender masterCategory  label subCategory articleType baseColour  \\\n",
       "0  1163     Men        Apparel      0     Topwear     Tshirts       Blue   \n",
       "1  1164     Men        Apparel      0     Topwear     Tshirts       Blue   \n",
       "2  1165     Men        Apparel      0     Topwear     Tshirts       Blue   \n",
       "3  1525  Unisex    Accessories      1        Bags   Backpacks  Navy Blue   \n",
       "4  1526  Unisex    Accessories      1        Bags   Backpacks      Black   \n",
       "\n",
       "    usage  season                                productDisplayName  \\\n",
       "0  Sports  Summer  Nike Sahara Team India Fanwear Round Neck Jersey   \n",
       "1  Sports  Winter           Nike Men Blue T20 Indian Cricket Jersey   \n",
       "2  Sports  Summer               Nike Mean Team India Cricket Jersey   \n",
       "3  Casual    Fall                      Puma Deck Navy Blue Backpack   \n",
       "4  Sports    Fall                       Puma Big Cat Backpack Black   \n",
       "\n",
       "  simplifiedColor  \n",
       "0         Neutral  \n",
       "1         Neutral  \n",
       "2         Neutral  \n",
       "3            Dark  \n",
       "4            Dark  "
      ]
     },
     "execution_count": 14,
     "metadata": {},
     "output_type": "execute_result"
    }
   ],
   "source": [
    "df.head()"
   ]
  },
  {
   "cell_type": "code",
   "execution_count": null,
   "metadata": {},
   "outputs": [],
   "source": [
    "# each image path is present in ./data/images/id.jpg format. this id is a column in df\n",
    "df['image_path'] = df['id'].apply(lambda x: f'./data/images/{x}.jpg')"
   ]
  },
  {
   "cell_type": "code",
   "execution_count": null,
   "metadata": {},
   "outputs": [
    {
     "data": {
      "text/html": [
       "<div>\n",
       "<style scoped>\n",
       "    .dataframe tbody tr th:only-of-type {\n",
       "        vertical-align: middle;\n",
       "    }\n",
       "\n",
       "    .dataframe tbody tr th {\n",
       "        vertical-align: top;\n",
       "    }\n",
       "\n",
       "    .dataframe thead th {\n",
       "        text-align: right;\n",
       "    }\n",
       "</style>\n",
       "<table border=\"1\" class=\"dataframe\">\n",
       "  <thead>\n",
       "    <tr style=\"text-align: right;\">\n",
       "      <th></th>\n",
       "      <th>id</th>\n",
       "      <th>gender</th>\n",
       "      <th>masterCategory</th>\n",
       "      <th>label</th>\n",
       "      <th>subCategory</th>\n",
       "      <th>articleType</th>\n",
       "      <th>baseColour</th>\n",
       "      <th>usage</th>\n",
       "      <th>season</th>\n",
       "      <th>productDisplayName</th>\n",
       "      <th>simplifiedColor</th>\n",
       "      <th>image_path</th>\n",
       "    </tr>\n",
       "  </thead>\n",
       "  <tbody>\n",
       "    <tr>\n",
       "      <th>0</th>\n",
       "      <td>1163</td>\n",
       "      <td>Men</td>\n",
       "      <td>Apparel</td>\n",
       "      <td>0</td>\n",
       "      <td>Topwear</td>\n",
       "      <td>Tshirts</td>\n",
       "      <td>Blue</td>\n",
       "      <td>Sports</td>\n",
       "      <td>Summer</td>\n",
       "      <td>Nike Sahara Team India Fanwear Round Neck Jersey</td>\n",
       "      <td>Neutral</td>\n",
       "      <td>./data/images/1163.jpg</td>\n",
       "    </tr>\n",
       "    <tr>\n",
       "      <th>1</th>\n",
       "      <td>1164</td>\n",
       "      <td>Men</td>\n",
       "      <td>Apparel</td>\n",
       "      <td>0</td>\n",
       "      <td>Topwear</td>\n",
       "      <td>Tshirts</td>\n",
       "      <td>Blue</td>\n",
       "      <td>Sports</td>\n",
       "      <td>Winter</td>\n",
       "      <td>Nike Men Blue T20 Indian Cricket Jersey</td>\n",
       "      <td>Neutral</td>\n",
       "      <td>./data/images/1164.jpg</td>\n",
       "    </tr>\n",
       "    <tr>\n",
       "      <th>2</th>\n",
       "      <td>1165</td>\n",
       "      <td>Men</td>\n",
       "      <td>Apparel</td>\n",
       "      <td>0</td>\n",
       "      <td>Topwear</td>\n",
       "      <td>Tshirts</td>\n",
       "      <td>Blue</td>\n",
       "      <td>Sports</td>\n",
       "      <td>Summer</td>\n",
       "      <td>Nike Mean Team India Cricket Jersey</td>\n",
       "      <td>Neutral</td>\n",
       "      <td>./data/images/1165.jpg</td>\n",
       "    </tr>\n",
       "    <tr>\n",
       "      <th>3</th>\n",
       "      <td>1525</td>\n",
       "      <td>Unisex</td>\n",
       "      <td>Accessories</td>\n",
       "      <td>1</td>\n",
       "      <td>Bags</td>\n",
       "      <td>Backpacks</td>\n",
       "      <td>Navy Blue</td>\n",
       "      <td>Casual</td>\n",
       "      <td>Fall</td>\n",
       "      <td>Puma Deck Navy Blue Backpack</td>\n",
       "      <td>Dark</td>\n",
       "      <td>./data/images/1525.jpg</td>\n",
       "    </tr>\n",
       "    <tr>\n",
       "      <th>4</th>\n",
       "      <td>1526</td>\n",
       "      <td>Unisex</td>\n",
       "      <td>Accessories</td>\n",
       "      <td>1</td>\n",
       "      <td>Bags</td>\n",
       "      <td>Backpacks</td>\n",
       "      <td>Black</td>\n",
       "      <td>Sports</td>\n",
       "      <td>Fall</td>\n",
       "      <td>Puma Big Cat Backpack Black</td>\n",
       "      <td>Dark</td>\n",
       "      <td>./data/images/1526.jpg</td>\n",
       "    </tr>\n",
       "  </tbody>\n",
       "</table>\n",
       "</div>"
      ],
      "text/plain": [
       "     id  gender masterCategory  label subCategory articleType baseColour  \\\n",
       "0  1163     Men        Apparel      0     Topwear     Tshirts       Blue   \n",
       "1  1164     Men        Apparel      0     Topwear     Tshirts       Blue   \n",
       "2  1165     Men        Apparel      0     Topwear     Tshirts       Blue   \n",
       "3  1525  Unisex    Accessories      1        Bags   Backpacks  Navy Blue   \n",
       "4  1526  Unisex    Accessories      1        Bags   Backpacks      Black   \n",
       "\n",
       "    usage  season                                productDisplayName  \\\n",
       "0  Sports  Summer  Nike Sahara Team India Fanwear Round Neck Jersey   \n",
       "1  Sports  Winter           Nike Men Blue T20 Indian Cricket Jersey   \n",
       "2  Sports  Summer               Nike Mean Team India Cricket Jersey   \n",
       "3  Casual    Fall                      Puma Deck Navy Blue Backpack   \n",
       "4  Sports    Fall                       Puma Big Cat Backpack Black   \n",
       "\n",
       "  simplifiedColor              image_path  \n",
       "0         Neutral  ./data/images/1163.jpg  \n",
       "1         Neutral  ./data/images/1164.jpg  \n",
       "2         Neutral  ./data/images/1165.jpg  \n",
       "3            Dark  ./data/images/1525.jpg  \n",
       "4            Dark  ./data/images/1526.jpg  "
      ]
     },
     "execution_count": 16,
     "metadata": {},
     "output_type": "execute_result"
    }
   ],
   "source": [
    "df.head()"
   ]
  },
  {
   "cell_type": "code",
   "execution_count": null,
   "metadata": {},
   "outputs": [
    {
     "name": "stdout",
     "output_type": "stream",
     "text": [
      "Requirement already satisfied: jupyter in d:\\projects\\ai-stylist\\.venv\\lib\\site-packages (1.0.0)\n",
      "Requirement already satisfied: ipywidgets in d:\\projects\\ai-stylist\\.venv\\lib\\site-packages (8.1.3)\n",
      "Requirement already satisfied: notebook in d:\\projects\\ai-stylist\\.venv\\lib\\site-packages (from jupyter) (7.2.1)\n",
      "Requirement already satisfied: qtconsole in d:\\projects\\ai-stylist\\.venv\\lib\\site-packages (from jupyter) (5.5.2)\n",
      "Requirement already satisfied: jupyter-console in d:\\projects\\ai-stylist\\.venv\\lib\\site-packages (from jupyter) (6.6.3)\n",
      "Requirement already satisfied: nbconvert in d:\\projects\\ai-stylist\\.venv\\lib\\site-packages (from jupyter) (7.16.4)\n",
      "Requirement already satisfied: ipykernel in d:\\projects\\ai-stylist\\.venv\\lib\\site-packages (from jupyter) (6.29.4)\n",
      "Requirement already satisfied: comm>=0.1.3 in d:\\projects\\ai-stylist\\.venv\\lib\\site-packages (from ipywidgets) (0.2.2)\n",
      "Requirement already satisfied: ipython>=6.1.0 in d:\\projects\\ai-stylist\\.venv\\lib\\site-packages (from ipywidgets) (8.25.0)\n",
      "Requirement already satisfied: traitlets>=4.3.1 in d:\\projects\\ai-stylist\\.venv\\lib\\site-packages (from ipywidgets) (5.14.3)\n",
      "Requirement already satisfied: widgetsnbextension~=4.0.11 in d:\\projects\\ai-stylist\\.venv\\lib\\site-packages (from ipywidgets) (4.0.11)\n",
      "Requirement already satisfied: jupyterlab-widgets~=3.0.11 in d:\\projects\\ai-stylist\\.venv\\lib\\site-packages (from ipywidgets) (3.0.11)\n",
      "Requirement already satisfied: decorator in d:\\projects\\ai-stylist\\.venv\\lib\\site-packages (from ipython>=6.1.0->ipywidgets) (5.1.1)\n",
      "Requirement already satisfied: jedi>=0.16 in d:\\projects\\ai-stylist\\.venv\\lib\\site-packages (from ipython>=6.1.0->ipywidgets) (0.19.1)\n",
      "Requirement already satisfied: matplotlib-inline in d:\\projects\\ai-stylist\\.venv\\lib\\site-packages (from ipython>=6.1.0->ipywidgets) (0.1.7)\n",
      "Requirement already satisfied: prompt-toolkit<3.1.0,>=3.0.41 in d:\\projects\\ai-stylist\\.venv\\lib\\site-packages (from ipython>=6.1.0->ipywidgets) (3.0.47)\n",
      "Requirement already satisfied: pygments>=2.4.0 in d:\\projects\\ai-stylist\\.venv\\lib\\site-packages (from ipython>=6.1.0->ipywidgets) (2.18.0)\n",
      "Requirement already satisfied: stack-data in d:\\projects\\ai-stylist\\.venv\\lib\\site-packages (from ipython>=6.1.0->ipywidgets) (0.6.3)\n",
      "Requirement already satisfied: colorama in d:\\projects\\ai-stylist\\.venv\\lib\\site-packages (from ipython>=6.1.0->ipywidgets) (0.4.6)\n",
      "Requirement already satisfied: debugpy>=1.6.5 in d:\\projects\\ai-stylist\\.venv\\lib\\site-packages (from ipykernel->jupyter) (1.8.1)\n",
      "Requirement already satisfied: jupyter-client>=6.1.12 in d:\\projects\\ai-stylist\\.venv\\lib\\site-packages (from ipykernel->jupyter) (8.6.2)\n",
      "Requirement already satisfied: jupyter-core!=5.0.*,>=4.12 in d:\\projects\\ai-stylist\\.venv\\lib\\site-packages (from ipykernel->jupyter) (5.7.2)\n",
      "Requirement already satisfied: nest-asyncio in d:\\projects\\ai-stylist\\.venv\\lib\\site-packages (from ipykernel->jupyter) (1.6.0)\n",
      "Requirement already satisfied: packaging in d:\\projects\\ai-stylist\\.venv\\lib\\site-packages (from ipykernel->jupyter) (24.1)\n",
      "Requirement already satisfied: psutil in d:\\projects\\ai-stylist\\.venv\\lib\\site-packages (from ipykernel->jupyter) (5.9.8)\n",
      "Requirement already satisfied: pyzmq>=24 in d:\\projects\\ai-stylist\\.venv\\lib\\site-packages (from ipykernel->jupyter) (26.0.3)\n",
      "Requirement already satisfied: tornado>=6.1 in d:\\projects\\ai-stylist\\.venv\\lib\\site-packages (from ipykernel->jupyter) (6.4.1)\n",
      "Requirement already satisfied: beautifulsoup4 in d:\\projects\\ai-stylist\\.venv\\lib\\site-packages (from nbconvert->jupyter) (4.12.3)\n",
      "Requirement already satisfied: bleach!=5.0.0 in d:\\projects\\ai-stylist\\.venv\\lib\\site-packages (from nbconvert->jupyter) (6.1.0)\n",
      "Requirement already satisfied: defusedxml in d:\\projects\\ai-stylist\\.venv\\lib\\site-packages (from nbconvert->jupyter) (0.7.1)\n",
      "Requirement already satisfied: jinja2>=3.0 in d:\\projects\\ai-stylist\\.venv\\lib\\site-packages (from nbconvert->jupyter) (3.1.4)\n",
      "Requirement already satisfied: jupyterlab-pygments in d:\\projects\\ai-stylist\\.venv\\lib\\site-packages (from nbconvert->jupyter) (0.3.0)\n",
      "Requirement already satisfied: markupsafe>=2.0 in d:\\projects\\ai-stylist\\.venv\\lib\\site-packages (from nbconvert->jupyter) (2.1.5)\n",
      "Requirement already satisfied: mistune<4,>=2.0.3 in d:\\projects\\ai-stylist\\.venv\\lib\\site-packages (from nbconvert->jupyter) (3.0.2)\n",
      "Requirement already satisfied: nbclient>=0.5.0 in d:\\projects\\ai-stylist\\.venv\\lib\\site-packages (from nbconvert->jupyter) (0.10.0)\n",
      "Requirement already satisfied: nbformat>=5.7 in d:\\projects\\ai-stylist\\.venv\\lib\\site-packages (from nbconvert->jupyter) (5.10.4)\n",
      "Requirement already satisfied: pandocfilters>=1.4.1 in d:\\projects\\ai-stylist\\.venv\\lib\\site-packages (from nbconvert->jupyter) (1.5.1)\n",
      "Requirement already satisfied: tinycss2 in d:\\projects\\ai-stylist\\.venv\\lib\\site-packages (from nbconvert->jupyter) (1.3.0)\n",
      "Requirement already satisfied: jupyter-server<3,>=2.4.0 in d:\\projects\\ai-stylist\\.venv\\lib\\site-packages (from notebook->jupyter) (2.14.2)\n",
      "Requirement already satisfied: jupyterlab-server<3,>=2.27.1 in d:\\projects\\ai-stylist\\.venv\\lib\\site-packages (from notebook->jupyter) (2.27.3)\n",
      "Requirement already satisfied: jupyterlab<4.3,>=4.2.0 in d:\\projects\\ai-stylist\\.venv\\lib\\site-packages (from notebook->jupyter) (4.2.3)\n",
      "Requirement already satisfied: notebook-shim<0.3,>=0.2 in d:\\projects\\ai-stylist\\.venv\\lib\\site-packages (from notebook->jupyter) (0.2.4)\n",
      "Requirement already satisfied: qtpy>=2.4.0 in d:\\projects\\ai-stylist\\.venv\\lib\\site-packages (from qtconsole->jupyter) (2.4.1)\n",
      "Requirement already satisfied: six>=1.9.0 in d:\\projects\\ai-stylist\\.venv\\lib\\site-packages (from bleach!=5.0.0->nbconvert->jupyter) (1.16.0)\n",
      "Requirement already satisfied: webencodings in d:\\projects\\ai-stylist\\.venv\\lib\\site-packages (from bleach!=5.0.0->nbconvert->jupyter) (0.5.1)\n",
      "Requirement already satisfied: parso<0.9.0,>=0.8.3 in d:\\projects\\ai-stylist\\.venv\\lib\\site-packages (from jedi>=0.16->ipython>=6.1.0->ipywidgets) (0.8.4)\n",
      "Requirement already satisfied: python-dateutil>=2.8.2 in d:\\projects\\ai-stylist\\.venv\\lib\\site-packages (from jupyter-client>=6.1.12->ipykernel->jupyter) (2.9.0.post0)\n",
      "Requirement already satisfied: platformdirs>=2.5 in d:\\projects\\ai-stylist\\.venv\\lib\\site-packages (from jupyter-core!=5.0.*,>=4.12->ipykernel->jupyter) (4.2.2)\n",
      "Requirement already satisfied: pywin32>=300 in d:\\projects\\ai-stylist\\.venv\\lib\\site-packages (from jupyter-core!=5.0.*,>=4.12->ipykernel->jupyter) (306)\n",
      "Requirement already satisfied: anyio>=3.1.0 in d:\\projects\\ai-stylist\\.venv\\lib\\site-packages (from jupyter-server<3,>=2.4.0->notebook->jupyter) (4.4.0)\n",
      "Requirement already satisfied: argon2-cffi>=21.1 in d:\\projects\\ai-stylist\\.venv\\lib\\site-packages (from jupyter-server<3,>=2.4.0->notebook->jupyter) (23.1.0)\n",
      "Requirement already satisfied: jupyter-events>=0.9.0 in d:\\projects\\ai-stylist\\.venv\\lib\\site-packages (from jupyter-server<3,>=2.4.0->notebook->jupyter) (0.10.0)\n",
      "Requirement already satisfied: jupyter-server-terminals>=0.4.4 in d:\\projects\\ai-stylist\\.venv\\lib\\site-packages (from jupyter-server<3,>=2.4.0->notebook->jupyter) (0.5.3)\n",
      "Requirement already satisfied: overrides>=5.0 in d:\\projects\\ai-stylist\\.venv\\lib\\site-packages (from jupyter-server<3,>=2.4.0->notebook->jupyter) (7.7.0)\n",
      "Requirement already satisfied: prometheus-client>=0.9 in d:\\projects\\ai-stylist\\.venv\\lib\\site-packages (from jupyter-server<3,>=2.4.0->notebook->jupyter) (0.20.0)\n",
      "Requirement already satisfied: pywinpty>=2.0.1 in d:\\projects\\ai-stylist\\.venv\\lib\\site-packages (from jupyter-server<3,>=2.4.0->notebook->jupyter) (2.0.13)\n",
      "Requirement already satisfied: send2trash>=1.8.2 in d:\\projects\\ai-stylist\\.venv\\lib\\site-packages (from jupyter-server<3,>=2.4.0->notebook->jupyter) (1.8.3)\n",
      "Requirement already satisfied: terminado>=0.8.3 in d:\\projects\\ai-stylist\\.venv\\lib\\site-packages (from jupyter-server<3,>=2.4.0->notebook->jupyter) (0.18.1)\n",
      "Requirement already satisfied: websocket-client>=1.7 in d:\\projects\\ai-stylist\\.venv\\lib\\site-packages (from jupyter-server<3,>=2.4.0->notebook->jupyter) (1.8.0)\n",
      "Requirement already satisfied: async-lru>=1.0.0 in d:\\projects\\ai-stylist\\.venv\\lib\\site-packages (from jupyterlab<4.3,>=4.2.0->notebook->jupyter) (2.0.4)\n",
      "Requirement already satisfied: httpx>=0.25.0 in d:\\projects\\ai-stylist\\.venv\\lib\\site-packages (from jupyterlab<4.3,>=4.2.0->notebook->jupyter) (0.27.0)\n",
      "Requirement already satisfied: jupyter-lsp>=2.0.0 in d:\\projects\\ai-stylist\\.venv\\lib\\site-packages (from jupyterlab<4.3,>=4.2.0->notebook->jupyter) (2.2.5)\n",
      "Requirement already satisfied: setuptools>=40.1.0 in d:\\projects\\ai-stylist\\.venv\\lib\\site-packages (from jupyterlab<4.3,>=4.2.0->notebook->jupyter) (70.2.0)\n",
      "Requirement already satisfied: babel>=2.10 in d:\\projects\\ai-stylist\\.venv\\lib\\site-packages (from jupyterlab-server<3,>=2.27.1->notebook->jupyter) (2.15.0)\n",
      "Requirement already satisfied: json5>=0.9.0 in d:\\projects\\ai-stylist\\.venv\\lib\\site-packages (from jupyterlab-server<3,>=2.27.1->notebook->jupyter) (0.9.25)\n",
      "Requirement already satisfied: jsonschema>=4.18.0 in d:\\projects\\ai-stylist\\.venv\\lib\\site-packages (from jupyterlab-server<3,>=2.27.1->notebook->jupyter) (4.23.0)\n",
      "Requirement already satisfied: requests>=2.31 in d:\\projects\\ai-stylist\\.venv\\lib\\site-packages (from jupyterlab-server<3,>=2.27.1->notebook->jupyter) (2.32.3)\n",
      "Requirement already satisfied: fastjsonschema>=2.15 in d:\\projects\\ai-stylist\\.venv\\lib\\site-packages (from nbformat>=5.7->nbconvert->jupyter) (2.20.0)\n",
      "Requirement already satisfied: wcwidth in d:\\projects\\ai-stylist\\.venv\\lib\\site-packages (from prompt-toolkit<3.1.0,>=3.0.41->ipython>=6.1.0->ipywidgets) (0.2.13)\n",
      "Requirement already satisfied: soupsieve>1.2 in d:\\projects\\ai-stylist\\.venv\\lib\\site-packages (from beautifulsoup4->nbconvert->jupyter) (2.5)\n",
      "Requirement already satisfied: executing>=1.2.0 in d:\\projects\\ai-stylist\\.venv\\lib\\site-packages (from stack-data->ipython>=6.1.0->ipywidgets) (2.0.1)\n",
      "Requirement already satisfied: asttokens>=2.1.0 in d:\\projects\\ai-stylist\\.venv\\lib\\site-packages (from stack-data->ipython>=6.1.0->ipywidgets) (2.4.1)\n",
      "Requirement already satisfied: pure-eval in d:\\projects\\ai-stylist\\.venv\\lib\\site-packages (from stack-data->ipython>=6.1.0->ipywidgets) (0.2.2)\n",
      "Requirement already satisfied: idna>=2.8 in d:\\projects\\ai-stylist\\.venv\\lib\\site-packages (from anyio>=3.1.0->jupyter-server<3,>=2.4.0->notebook->jupyter) (3.7)\n",
      "Requirement already satisfied: sniffio>=1.1 in d:\\projects\\ai-stylist\\.venv\\lib\\site-packages (from anyio>=3.1.0->jupyter-server<3,>=2.4.0->notebook->jupyter) (1.3.1)\n",
      "Requirement already satisfied: argon2-cffi-bindings in d:\\projects\\ai-stylist\\.venv\\lib\\site-packages (from argon2-cffi>=21.1->jupyter-server<3,>=2.4.0->notebook->jupyter) (21.2.0)\n",
      "Requirement already satisfied: certifi in d:\\projects\\ai-stylist\\.venv\\lib\\site-packages (from httpx>=0.25.0->jupyterlab<4.3,>=4.2.0->notebook->jupyter) (2024.6.2)\n",
      "Requirement already satisfied: httpcore==1.* in d:\\projects\\ai-stylist\\.venv\\lib\\site-packages (from httpx>=0.25.0->jupyterlab<4.3,>=4.2.0->notebook->jupyter) (1.0.5)\n",
      "Requirement already satisfied: h11<0.15,>=0.13 in d:\\projects\\ai-stylist\\.venv\\lib\\site-packages (from httpcore==1.*->httpx>=0.25.0->jupyterlab<4.3,>=4.2.0->notebook->jupyter) (0.14.0)\n",
      "Requirement already satisfied: attrs>=22.2.0 in d:\\projects\\ai-stylist\\.venv\\lib\\site-packages (from jsonschema>=4.18.0->jupyterlab-server<3,>=2.27.1->notebook->jupyter) (23.2.0)\n",
      "Requirement already satisfied: jsonschema-specifications>=2023.03.6 in d:\\projects\\ai-stylist\\.venv\\lib\\site-packages (from jsonschema>=4.18.0->jupyterlab-server<3,>=2.27.1->notebook->jupyter) (2023.12.1)\n",
      "Requirement already satisfied: referencing>=0.28.4 in d:\\projects\\ai-stylist\\.venv\\lib\\site-packages (from jsonschema>=4.18.0->jupyterlab-server<3,>=2.27.1->notebook->jupyter) (0.35.1)\n",
      "Requirement already satisfied: rpds-py>=0.7.1 in d:\\projects\\ai-stylist\\.venv\\lib\\site-packages (from jsonschema>=4.18.0->jupyterlab-server<3,>=2.27.1->notebook->jupyter) (0.19.0)\n",
      "Requirement already satisfied: python-json-logger>=2.0.4 in d:\\projects\\ai-stylist\\.venv\\lib\\site-packages (from jupyter-events>=0.9.0->jupyter-server<3,>=2.4.0->notebook->jupyter) (2.0.7)\n",
      "Requirement already satisfied: pyyaml>=5.3 in d:\\projects\\ai-stylist\\.venv\\lib\\site-packages (from jupyter-events>=0.9.0->jupyter-server<3,>=2.4.0->notebook->jupyter) (6.0.1)\n",
      "Requirement already satisfied: rfc3339-validator in d:\\projects\\ai-stylist\\.venv\\lib\\site-packages (from jupyter-events>=0.9.0->jupyter-server<3,>=2.4.0->notebook->jupyter) (0.1.4)\n",
      "Requirement already satisfied: rfc3986-validator>=0.1.1 in d:\\projects\\ai-stylist\\.venv\\lib\\site-packages (from jupyter-events>=0.9.0->jupyter-server<3,>=2.4.0->notebook->jupyter) (0.1.1)\n",
      "Requirement already satisfied: charset-normalizer<4,>=2 in d:\\projects\\ai-stylist\\.venv\\lib\\site-packages (from requests>=2.31->jupyterlab-server<3,>=2.27.1->notebook->jupyter) (3.3.2)\n",
      "Requirement already satisfied: urllib3<3,>=1.21.1 in d:\\projects\\ai-stylist\\.venv\\lib\\site-packages (from requests>=2.31->jupyterlab-server<3,>=2.27.1->notebook->jupyter) (2.2.1)\n",
      "Requirement already satisfied: fqdn in d:\\projects\\ai-stylist\\.venv\\lib\\site-packages (from jsonschema[format-nongpl]>=4.18.0->jupyter-events>=0.9.0->jupyter-server<3,>=2.4.0->notebook->jupyter) (1.5.1)\n",
      "Requirement already satisfied: isoduration in d:\\projects\\ai-stylist\\.venv\\lib\\site-packages (from jsonschema[format-nongpl]>=4.18.0->jupyter-events>=0.9.0->jupyter-server<3,>=2.4.0->notebook->jupyter) (20.11.0)\n",
      "Requirement already satisfied: jsonpointer>1.13 in d:\\projects\\ai-stylist\\.venv\\lib\\site-packages (from jsonschema[format-nongpl]>=4.18.0->jupyter-events>=0.9.0->jupyter-server<3,>=2.4.0->notebook->jupyter) (3.0.0)\n",
      "Requirement already satisfied: uri-template in d:\\projects\\ai-stylist\\.venv\\lib\\site-packages (from jsonschema[format-nongpl]>=4.18.0->jupyter-events>=0.9.0->jupyter-server<3,>=2.4.0->notebook->jupyter) (1.3.0)\n",
      "Requirement already satisfied: webcolors>=24.6.0 in d:\\projects\\ai-stylist\\.venv\\lib\\site-packages (from jsonschema[format-nongpl]>=4.18.0->jupyter-events>=0.9.0->jupyter-server<3,>=2.4.0->notebook->jupyter) (24.6.0)\n",
      "Requirement already satisfied: cffi>=1.0.1 in d:\\projects\\ai-stylist\\.venv\\lib\\site-packages (from argon2-cffi-bindings->argon2-cffi>=21.1->jupyter-server<3,>=2.4.0->notebook->jupyter) (1.16.0)\n",
      "Requirement already satisfied: pycparser in d:\\projects\\ai-stylist\\.venv\\lib\\site-packages (from cffi>=1.0.1->argon2-cffi-bindings->argon2-cffi>=21.1->jupyter-server<3,>=2.4.0->notebook->jupyter) (2.22)\n",
      "Requirement already satisfied: arrow>=0.15.0 in d:\\projects\\ai-stylist\\.venv\\lib\\site-packages (from isoduration->jsonschema[format-nongpl]>=4.18.0->jupyter-events>=0.9.0->jupyter-server<3,>=2.4.0->notebook->jupyter) (1.3.0)\n",
      "Requirement already satisfied: types-python-dateutil>=2.8.10 in d:\\projects\\ai-stylist\\.venv\\lib\\site-packages (from arrow>=0.15.0->isoduration->jsonschema[format-nongpl]>=4.18.0->jupyter-events>=0.9.0->jupyter-server<3,>=2.4.0->notebook->jupyter) (2.9.0.20240316)\n",
      "Note: you may need to restart the kernel to use updated packages.\n"
     ]
    },
    {
     "name": "stderr",
     "output_type": "stream",
     "text": [
      "\n",
      "[notice] A new release of pip is available: 24.1.1 -> 24.1.2\n",
      "[notice] To update, run: python.exe -m pip install --upgrade pip\n"
     ]
    }
   ],
   "source": [
    "# %pip install --upgrade jupyter ipywidgets"
   ]
  },
  {
   "cell_type": "code",
   "execution_count": 10,
   "metadata": {},
   "outputs": [],
   "source": [
    "!jupyter nbextension enable --py widgetsnbextension"
   ]
  },
  {
   "cell_type": "code",
   "execution_count": 11,
   "metadata": {},
   "outputs": [],
   "source": [
    "from tqdm.notebook import tqdm"
   ]
  },
  {
   "cell_type": "code",
   "execution_count": 12,
   "metadata": {},
   "outputs": [],
   "source": [
    "feature_list = []\n",
    "image_paths = []\n",
    "\n",
    "df_mini = df.head(10)"
   ]
  },
  {
   "cell_type": "code",
   "execution_count": null,
   "metadata": {},
   "outputs": [
    {
     "data": {
      "text/html": [
       "<div>\n",
       "<style scoped>\n",
       "    .dataframe tbody tr th:only-of-type {\n",
       "        vertical-align: middle;\n",
       "    }\n",
       "\n",
       "    .dataframe tbody tr th {\n",
       "        vertical-align: top;\n",
       "    }\n",
       "\n",
       "    .dataframe thead th {\n",
       "        text-align: right;\n",
       "    }\n",
       "</style>\n",
       "<table border=\"1\" class=\"dataframe\">\n",
       "  <thead>\n",
       "    <tr style=\"text-align: right;\">\n",
       "      <th></th>\n",
       "      <th>id</th>\n",
       "      <th>gender</th>\n",
       "      <th>masterCategory</th>\n",
       "      <th>label</th>\n",
       "      <th>subCategory</th>\n",
       "      <th>articleType</th>\n",
       "      <th>baseColour</th>\n",
       "      <th>usage</th>\n",
       "      <th>season</th>\n",
       "      <th>productDisplayName</th>\n",
       "      <th>simplifiedColor</th>\n",
       "      <th>image_path</th>\n",
       "    </tr>\n",
       "  </thead>\n",
       "  <tbody>\n",
       "    <tr>\n",
       "      <th>0</th>\n",
       "      <td>1163</td>\n",
       "      <td>Men</td>\n",
       "      <td>Apparel</td>\n",
       "      <td>0</td>\n",
       "      <td>Topwear</td>\n",
       "      <td>Tshirts</td>\n",
       "      <td>Blue</td>\n",
       "      <td>Sports</td>\n",
       "      <td>Summer</td>\n",
       "      <td>Nike Sahara Team India Fanwear Round Neck Jersey</td>\n",
       "      <td>Neutral</td>\n",
       "      <td>./data/images/1163.jpg</td>\n",
       "    </tr>\n",
       "    <tr>\n",
       "      <th>1</th>\n",
       "      <td>1164</td>\n",
       "      <td>Men</td>\n",
       "      <td>Apparel</td>\n",
       "      <td>0</td>\n",
       "      <td>Topwear</td>\n",
       "      <td>Tshirts</td>\n",
       "      <td>Blue</td>\n",
       "      <td>Sports</td>\n",
       "      <td>Winter</td>\n",
       "      <td>Nike Men Blue T20 Indian Cricket Jersey</td>\n",
       "      <td>Neutral</td>\n",
       "      <td>./data/images/1164.jpg</td>\n",
       "    </tr>\n",
       "    <tr>\n",
       "      <th>2</th>\n",
       "      <td>1165</td>\n",
       "      <td>Men</td>\n",
       "      <td>Apparel</td>\n",
       "      <td>0</td>\n",
       "      <td>Topwear</td>\n",
       "      <td>Tshirts</td>\n",
       "      <td>Blue</td>\n",
       "      <td>Sports</td>\n",
       "      <td>Summer</td>\n",
       "      <td>Nike Mean Team India Cricket Jersey</td>\n",
       "      <td>Neutral</td>\n",
       "      <td>./data/images/1165.jpg</td>\n",
       "    </tr>\n",
       "    <tr>\n",
       "      <th>3</th>\n",
       "      <td>1525</td>\n",
       "      <td>Unisex</td>\n",
       "      <td>Accessories</td>\n",
       "      <td>1</td>\n",
       "      <td>Bags</td>\n",
       "      <td>Backpacks</td>\n",
       "      <td>Navy Blue</td>\n",
       "      <td>Casual</td>\n",
       "      <td>Fall</td>\n",
       "      <td>Puma Deck Navy Blue Backpack</td>\n",
       "      <td>Dark</td>\n",
       "      <td>./data/images/1525.jpg</td>\n",
       "    </tr>\n",
       "    <tr>\n",
       "      <th>4</th>\n",
       "      <td>1526</td>\n",
       "      <td>Unisex</td>\n",
       "      <td>Accessories</td>\n",
       "      <td>1</td>\n",
       "      <td>Bags</td>\n",
       "      <td>Backpacks</td>\n",
       "      <td>Black</td>\n",
       "      <td>Sports</td>\n",
       "      <td>Fall</td>\n",
       "      <td>Puma Big Cat Backpack Black</td>\n",
       "      <td>Dark</td>\n",
       "      <td>./data/images/1526.jpg</td>\n",
       "    </tr>\n",
       "  </tbody>\n",
       "</table>\n",
       "</div>"
      ],
      "text/plain": [
       "     id  gender masterCategory  label subCategory articleType baseColour  \\\n",
       "0  1163     Men        Apparel      0     Topwear     Tshirts       Blue   \n",
       "1  1164     Men        Apparel      0     Topwear     Tshirts       Blue   \n",
       "2  1165     Men        Apparel      0     Topwear     Tshirts       Blue   \n",
       "3  1525  Unisex    Accessories      1        Bags   Backpacks  Navy Blue   \n",
       "4  1526  Unisex    Accessories      1        Bags   Backpacks      Black   \n",
       "\n",
       "    usage  season                                productDisplayName  \\\n",
       "0  Sports  Summer  Nike Sahara Team India Fanwear Round Neck Jersey   \n",
       "1  Sports  Winter           Nike Men Blue T20 Indian Cricket Jersey   \n",
       "2  Sports  Summer               Nike Mean Team India Cricket Jersey   \n",
       "3  Casual    Fall                      Puma Deck Navy Blue Backpack   \n",
       "4  Sports    Fall                       Puma Big Cat Backpack Black   \n",
       "\n",
       "  simplifiedColor              image_path  \n",
       "0         Neutral  ./data/images/1163.jpg  \n",
       "1         Neutral  ./data/images/1164.jpg  \n",
       "2         Neutral  ./data/images/1165.jpg  \n",
       "3            Dark  ./data/images/1525.jpg  \n",
       "4            Dark  ./data/images/1526.jpg  "
      ]
     },
     "execution_count": 28,
     "metadata": {},
     "output_type": "execute_result"
    }
   ],
   "source": [
    "df_mini.head()"
   ]
  },
  {
   "cell_type": "code",
   "execution_count": 13,
   "metadata": {},
   "outputs": [
    {
     "data": {
      "application/vnd.jupyter.widget-view+json": {
       "model_id": "1d62d48f88864465853b7fa5377e7888",
       "version_major": 2,
       "version_minor": 0
      },
      "text/plain": [
       "  0%|          | 0/39685 [00:00<?, ?it/s]"
      ]
     },
     "metadata": {},
     "output_type": "display_data"
    }
   ],
   "source": [
    "for id in tqdm(df['id']):\n",
    "    # find id from i\n",
    "    # id = df_mini.iloc[i]['id']\n",
    "    image_path = f\"./data/images/{id}.jpg\"\n",
    "    # print(image_path)\n",
    "    features = extract_features(image_path)\n",
    "    feature_list.append(features)\n",
    "    image_paths.append(image_path)"
   ]
  },
  {
   "cell_type": "code",
   "execution_count": null,
   "metadata": {},
   "outputs": [
    {
     "data": {
      "text/plain": [
       "(10, 2560)"
      ]
     },
     "execution_count": 23,
     "metadata": {},
     "output_type": "execute_result"
    }
   ],
   "source": [
    "features = np.array(feature_list)\n",
    "features.shape"
   ]
  },
  {
   "cell_type": "code",
   "execution_count": null,
   "metadata": {},
   "outputs": [
    {
     "data": {
      "text/plain": [
       "(10,)"
      ]
     },
     "execution_count": 24,
     "metadata": {},
     "output_type": "execute_result"
    }
   ],
   "source": [
    "image_paths = np.array(image_paths)\n",
    "image_paths.shape"
   ]
  },
  {
   "cell_type": "code",
   "execution_count": null,
   "metadata": {},
   "outputs": [
    {
     "data": {
      "image/png": "[encoded data removed]",
      "text/plain": [
       "<Figure size 2000x800 with 10 Axes>"
      ]
     },
     "metadata": {},
     "output_type": "display_data"
    }
   ],
   "source": [
    "# display all images in a grid\n",
    "import matplotlib.pyplot as plt\n",
    "import matplotlib.image as mpimg\n",
    "\n",
    "fig, axs = plt.subplots(2, 5, figsize=(20, 8))\n",
    "axs = axs.flatten()\n",
    "\n",
    "for i, img_path in enumerate(image_paths):\n",
    "    img = mpimg.imread(img_path)\n",
    "    axs[i].imshow(img)\n",
    "    axs[i].axis('off')\n",
    "\n",
    "plt.show()"
   ]
  },
  {
   "cell_type": "code",
   "execution_count": null,
   "metadata": {},
   "outputs": [],
   "source": []
  }
 ],
 "metadata": {
  "kernelspec": {
   "display_name": ".venv",
   "language": "python",
   "name": "python3"
  },
  "language_info": {
   "codemirror_mode": {
    "name": "ipython",
    "version": 3
   },
   "file_extension": ".py",
   "mimetype": "text/x-python",
   "name": "python",
   "nbconvert_exporter": "python",
   "pygments_lexer": "ipython3",
   "version": "3.12.4"
  }
 },
 "nbformat": 4,
 "nbformat_minor": 2
}
